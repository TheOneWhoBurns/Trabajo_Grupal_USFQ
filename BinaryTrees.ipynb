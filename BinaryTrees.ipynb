{
 "cells": [
  {
   "cell_type": "markdown",
   "id": "3daffe8d-b528-4534-8bb5-4928dab7c2ad",
   "metadata": {
    "slideshow": {
     "slide_type": "subslide"
    }
   },
   "source": [
    "### Exercises\n",
    "\n",
    "1. Write a program that validates that a tree is a BST"
   ]
  },
  {
   "cell_type": "code",
   "execution_count": 1,
   "id": "21d5f4f2-84d2-4638-9bc5-e4ce3abdec1e",
   "metadata": {
    "slideshow": {
     "slide_type": "subslide"
    }
   },
   "outputs": [],
   "source": [
    "class TreeNode:\n",
    "    def __init__(self, val=0, left=None, right=None):\n",
    "        self.val = val\n",
    "        self.left = left\n",
    "        self.right = right"
   ]
  },
  {
   "cell_type": "code",
   "execution_count": null,
   "id": "b8657866-af57-4854-b85d-4f20797988ea",
   "metadata": {},
   "outputs": [],
   "source": [
    "def isBST(node):\n",
    "    return (isBSTutil(node,mini,maxi))\n",
    "\n",
    "def isBSTutil(node,mini,maxi):\n",
    "    if node is None:\n",
    "        return None\n",
    "    if node.val < mini or node.val > maxi:\n",
    "        return False\n",
    "    \n",
    "    return (isBSTutil(node,mini,node.val - 1) and isBSTutil(node,node.val + 1,maxi))"
   ]
  }
 ],
 "metadata": {
  "kernelspec": {
   "display_name": "Python 3",
   "language": "python",
   "name": "python3"
  },
  "language_info": {
   "codemirror_mode": {
    "name": "ipython",
    "version": 3
   },
   "file_extension": ".py",
   "mimetype": "text/x-python",
   "name": "python",
   "nbconvert_exporter": "python",
   "pygments_lexer": "ipython3",
   "version": "3.8.8"
  }
 },
 "nbformat": 4,
 "nbformat_minor": 5
}
