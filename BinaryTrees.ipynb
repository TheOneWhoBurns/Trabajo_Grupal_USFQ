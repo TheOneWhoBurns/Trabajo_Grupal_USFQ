{
 "cells": [
  {
   "cell_type": "markdown",
   "id": "35b0ce81-b0f8-4474-a64c-bc28d81626a3",
   "metadata": {
    "slideshow": {
     "slide_type": "slide"
    }
   },
   "source": [
    "### Exercises\n",
    "\n",
    "2. Given the root of a tree and two nodes of the same tree, return the least common ancestor (LCA) of these two nodes.\n",
    "\n",
    "Example:\n",
    "\n",
    "```\n",
    "nodes = f,g\n",
    "return e\n",
    "```\n",
    "\n",
    "![](./binary_tree.png)"
   ]
  },
  {
   "cell_type": "code",
   "execution_count": 1,
   "id": "21d5f4f2-84d2-4638-9bc5-e4ce3abdec1e",
   "metadata": {
    "slideshow": {
     "slide_type": "subslide"
    }
   },
   "outputs": [],
   "source": [
    "class TreeNode:\n",
    "    def __init__(self, val=0, left=None, right=None):\n",
    "        self.val = val\n",
    "        self.left = left\n",
    "        self.right = right"
   ]
  },
  {
   "cell_type": "code",
   "execution_count": 3,
   "id": "856c9e9c-d7bb-4ee5-a57b-dc5c1240b683",
   "metadata": {},
   "outputs": [],
   "source": [
    "def commonAncestor (root, v1, v2):\n",
    "    #Root es la raiz del arbol, mientras que v1 y v2 son los valores que buscamos\n",
    "    \n",
    "    #caso base\n",
    "    if root is None:\n",
    "        return None\n",
    "    \n",
    "    #si no es el caso base pero coincide con el valor que buscamos, retornamos el nodo padre\n",
    "    if root.val == v1 or root.val == v2:\n",
    "        return root\n",
    "    \n",
    "    #revisamos el subarbol izquierdo y derecho\n",
    "    leftTree = commonAncestor(root.left, v1,v2)\n",
    "    rightTree = commonAncestor(root.right, v1,v2)\n",
    "    \n",
    "    #la recursion llega hasta que el caso base, o llega hasta que coincida con el valor v1 o v2\n",
    "    #si ninguna de las recursiones retorna None entonces devolvemos root, que es el ancestro comun\n",
    "    \n",
    "    if leftTree and rightTree:\n",
    "        return root\n",
    "    \n",
    "    #si alguna de las dos retorna None, entonces es un de los subtrees originales, el otro\n",
    "    if leftTree is None:\n",
    "        return rightTree\n",
    "    elif rightTree is None:\n",
    "        return leftTree\n",
    "    \n",
    "    else:\n",
    "        return None\n",
    "    "
   ]
  },
  {
   "cell_type": "code",
   "execution_count": null,
   "id": "b8657866-af57-4854-b85d-4f20797988ea",
   "metadata": {},
   "outputs": [],
   "source": []
  }
 ],
 "metadata": {
  "kernelspec": {
   "display_name": "Python 3",
   "language": "python",
   "name": "python3"
  },
  "language_info": {
   "codemirror_mode": {
    "name": "ipython",
    "version": 3
   },
   "file_extension": ".py",
   "mimetype": "text/x-python",
   "name": "python",
   "nbconvert_exporter": "python",
   "pygments_lexer": "ipython3",
   "version": "3.8.8"
  }
 },
 "nbformat": 4,
 "nbformat_minor": 5
}
