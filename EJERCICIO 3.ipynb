{
 "cells": [
  {
   "cell_type": "markdown",
   "metadata": {},
   "source": [
    "Ejercicio 3:\n",
    "\n",
    "Given the root of a tree and two nodes of the same tree, return the least common ancestor (LCA) of these two nodes."
   ]
  },
  {
   "cell_type": "code",
   "execution_count": 5,
   "metadata": {},
   "outputs": [],
   "source": [
    "class Node:\n",
    "    def __init__(self, key):\n",
    "        self.key = key\n",
    "        self.left = None\n",
    "        self.right = None\n",
    "\n",
    "def LCA(root, n1, n2):\n",
    "    if root is None:\n",
    "        return None\n",
    "    if (root.key == n1 or root.key == n2):\n",
    "        return root\n",
    "    \n",
    "    left_root = LCA(root.left, n1, n2)\n",
    "    right_root = LCA(root.right, n1, n2)\n",
    "    \n",
    "    if left_root and right_root:\n",
    "        return root\n",
    "    \n",
    "    return left_root if left_root is not None else right_root"
   ]
  },
  {
   "cell_type": "code",
   "execution_count": 6,
   "metadata": {},
   "outputs": [
    {
     "name": "stdout",
     "output_type": "stream",
     "text": [
      "LCA(F,G) = E\n"
     ]
    }
   ],
   "source": [
    "root = Node(\"A\")\n",
    "root.left = Node(\"B\")\n",
    "root.right = Node(\"E\")\n",
    "root.left.left = Node(\"C\")\n",
    "root.left.right = Node(\"D\")\n",
    "root.right.left = Node(\"F\")\n",
    "root.right.right = Node(\"G\")\n",
    "root.right.right.left = Node(\"H\")\n",
    "root.right.right.right = Node(\"I\")\n",
    "print(\"LCA(F,G) = \" +LCA(root, \"F\", \"G\").key)"
   ]
  },
  {
   "cell_type": "code",
   "execution_count": null,
   "metadata": {},
   "outputs": [],
   "source": []
  }
 ],
 "metadata": {
  "kernelspec": {
   "display_name": "Python 3",
   "language": "python",
   "name": "python3"
  },
  "language_info": {
   "codemirror_mode": {
    "name": "ipython",
    "version": 3
   },
   "file_extension": ".py",
   "mimetype": "text/x-python",
   "name": "python",
   "nbconvert_exporter": "python",
   "pygments_lexer": "ipython3",
   "version": "3.7.3"
  }
 },
 "nbformat": 4,
 "nbformat_minor": 2
}
